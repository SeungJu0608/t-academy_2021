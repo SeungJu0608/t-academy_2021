{
  "nbformat": 4,
  "nbformat_minor": 0,
  "metadata": {
    "colab": {
      "name": "treating_sequence_data.ipynb",
      "provenance": [],
      "collapsed_sections": []
    },
    "kernelspec": {
      "display_name": "Python 3",
      "name": "python3"
    },
    "language_info": {
      "name": "python"
    }
  },
  "cells": [
    {
      "cell_type": "markdown",
      "metadata": {
        "id": "3dmaAhE6c02q"
      },
      "source": [
        "# 순차열 데이터 처리\n",
        "\n",
        "순차열 데이터는 정형 데이터로 변형해서 처리한다."
      ]
    },
    {
      "cell_type": "markdown",
      "metadata": {
        "id": "KnTJOWBnOcDU"
      },
      "source": [
        "순차열 데이터가 다음과 같을 때\n",
        "```\n",
        "0  1  2  3  4  5  6  7  8  9 10 11 12 13 14 15 16 17 18 19\n",
        "<---- x ---->  y          : [0 1 2 3 4] -> 5\n",
        "   <---- x ---->  y       : [1 2 3 4 5] -> 6\n",
        "      <---- x ---->  y    : [2 3 4 5 6] -> 7\n",
        "         <---- x ---->  y : [3 4 5 6 7] -> 8\n",
        "```\n",
        "x는 길이 5이고, y는 x 다음 값으로 샘플링한다.\n",
        "\n",
        "결국 다음 순차열 데이터로\n",
        "```\n",
        "0 1 2 3 4 5 6 7 8 9 \n",
        "```\n",
        "\n",
        "다음과 같은 데이터로 정형 데이터를 생성한다.\n",
        "```\n",
        "0 1 2 3 4, 5\n",
        "1 2 3 4 5, 6\n",
        "2 3 4 5 6, 7\n",
        "3 4 5 6 7, 8\n",
        "4 5 6 7 8, 9\n",
        "```"
      ]
    },
    {
      "cell_type": "markdown",
      "metadata": {
        "id": "gbMiOVWvoSNV"
      },
      "source": [
        "## 수작업에 의한"
      ]
    },
    {
      "cell_type": "code",
      "metadata": {
        "colab": {
          "base_uri": "https://localhost:8080/"
        },
        "id": "sl_cK5lqoU5g",
        "outputId": "166c0841-4e46-4181-b348-f5212858a4ba"
      },
      "source": [
        "import numpy as np\n",
        "\n",
        "series = np.arange(20)\n",
        "print(series)"
      ],
      "execution_count": 1,
      "outputs": [
        {
          "output_type": "stream",
          "text": [
            "[ 0  1  2  3  4  5  6  7  8  9 10 11 12 13 14 15 16 17 18 19]\n"
          ],
          "name": "stdout"
        }
      ]
    },
    {
      "cell_type": "code",
      "metadata": {
        "colab": {
          "base_uri": "https://localhost:8080/"
        },
        "id": "2-T6eWcOoWWx",
        "outputId": "c2368895-56ea-413b-d1b2-1019bc21c5bf"
      },
      "source": [
        "a_data_length = 5\n",
        "\n",
        "x = []\n",
        "y = []\n",
        "for i in range(len(series)):\n",
        "  if i+a_data_length+1 > len(series): break\n",
        "  a_data = series[i:i+a_data_length]\n",
        "  x.append(a_data)\n",
        "  y.append(series[i+a_data_length])\n",
        "\n",
        "x = np.array(x)\n",
        "y = np.array(y)\n",
        "\n",
        "print(x)\n",
        "print(y)"
      ],
      "execution_count": 2,
      "outputs": [
        {
          "output_type": "stream",
          "text": [
            "[[ 0  1  2  3  4]\n",
            " [ 1  2  3  4  5]\n",
            " [ 2  3  4  5  6]\n",
            " [ 3  4  5  6  7]\n",
            " [ 4  5  6  7  8]\n",
            " [ 5  6  7  8  9]\n",
            " [ 6  7  8  9 10]\n",
            " [ 7  8  9 10 11]\n",
            " [ 8  9 10 11 12]\n",
            " [ 9 10 11 12 13]\n",
            " [10 11 12 13 14]\n",
            " [11 12 13 14 15]\n",
            " [12 13 14 15 16]\n",
            " [13 14 15 16 17]\n",
            " [14 15 16 17 18]]\n",
            "[ 5  6  7  8  9 10 11 12 13 14 15 16 17 18 19]\n"
          ],
          "name": "stdout"
        }
      ]
    },
    {
      "cell_type": "markdown",
      "metadata": {
        "id": "zzMe4V8doPgJ"
      },
      "source": [
        "## TimeseriesGenerator에 의한"
      ]
    },
    {
      "cell_type": "code",
      "metadata": {
        "colab": {
          "base_uri": "https://localhost:8080/"
        },
        "id": "bZkNHGlQDtFY",
        "outputId": "c27f3535-6519-4907-852a-172f7762ca3c"
      },
      "source": [
        "import numpy as np\n",
        "\n",
        "series = np.arange(20)\n",
        "print(series)"
      ],
      "execution_count": 3,
      "outputs": [
        {
          "output_type": "stream",
          "text": [
            "[ 0  1  2  3  4  5  6  7  8  9 10 11 12 13 14 15 16 17 18 19]\n"
          ],
          "name": "stdout"
        }
      ]
    },
    {
      "cell_type": "code",
      "metadata": {
        "colab": {
          "base_uri": "https://localhost:8080/"
        },
        "id": "_0Kg5ITdN_5a",
        "outputId": "cc017f49-22d0-4b83-9def-db61893a5030"
      },
      "source": [
        "from keras.preprocessing.sequence import TimeseriesGenerator\n",
        "\n",
        "BIG_ENOUGH = len(series)+999\n",
        "generator = TimeseriesGenerator(series, series, length=5, batch_size=BIG_ENOUGH)\n",
        "\n",
        "x, y = generator[0]\n",
        "print(x.shape)\n",
        "print(y.shape)\n",
        "\n",
        "print(x)\n",
        "print(y)"
      ],
      "execution_count": 4,
      "outputs": [
        {
          "output_type": "stream",
          "text": [
            "(15, 5)\n",
            "(15,)\n",
            "[[ 0  1  2  3  4]\n",
            " [ 1  2  3  4  5]\n",
            " [ 2  3  4  5  6]\n",
            " [ 3  4  5  6  7]\n",
            " [ 4  5  6  7  8]\n",
            " [ 5  6  7  8  9]\n",
            " [ 6  7  8  9 10]\n",
            " [ 7  8  9 10 11]\n",
            " [ 8  9 10 11 12]\n",
            " [ 9 10 11 12 13]\n",
            " [10 11 12 13 14]\n",
            " [11 12 13 14 15]\n",
            " [12 13 14 15 16]\n",
            " [13 14 15 16 17]\n",
            " [14 15 16 17 18]]\n",
            "[ 5  6  7  8  9 10 11 12 13 14 15 16 17 18 19]\n"
          ],
          "name": "stdout"
        }
      ]
    },
    {
      "cell_type": "markdown",
      "metadata": {
        "id": "Ia4HpKVwq0xI"
      },
      "source": [
        "# TimeseriesGenerator 옵션들"
      ]
    },
    {
      "cell_type": "markdown",
      "metadata": {
        "id": "fJ6lwtHmqaUp"
      },
      "source": [
        "## batch_size"
      ]
    },
    {
      "cell_type": "code",
      "metadata": {
        "colab": {
          "base_uri": "https://localhost:8080/"
        },
        "id": "Aa2T1DBTrDMP",
        "outputId": "51e618e4-ced7-4ab1-f963-035c73790d59"
      },
      "source": [
        "import numpy as np\n",
        "\n",
        "series = np.arange(20)\n",
        "print(series)"
      ],
      "execution_count": 5,
      "outputs": [
        {
          "output_type": "stream",
          "text": [
            "[ 0  1  2  3  4  5  6  7  8  9 10 11 12 13 14 15 16 17 18 19]\n"
          ],
          "name": "stdout"
        }
      ]
    },
    {
      "cell_type": "code",
      "metadata": {
        "colab": {
          "base_uri": "https://localhost:8080/"
        },
        "id": "oieOQa6bqBkW",
        "outputId": "bb13b021-fe03-4bc0-9ce2-bb7998091825"
      },
      "source": [
        "from keras.preprocessing.sequence import TimeseriesGenerator\n",
        "\n",
        "generator = TimeseriesGenerator(series, series, length=5, batch_size=4)\n",
        "\n",
        "print(\"generator[0]\")\n",
        "x, y = generator[0]\n",
        "print(\"x.shape =\",x.shape)\n",
        "print(\"y.shape =\",y.shape)\n",
        "\n",
        "print(x)\n",
        "print(y)\n",
        "print(\"\\n\")\n",
        "\n",
        "\n",
        "\n",
        "print(\"generator[1]\")\n",
        "x, y = generator[1]\n",
        "print(\"x.shape =\",x.shape)\n",
        "print(\"y.shape =\",y.shape)\n",
        "\n",
        "print(x)\n",
        "print(y)\n"
      ],
      "execution_count": 6,
      "outputs": [
        {
          "output_type": "stream",
          "text": [
            "generator[0]\n",
            "x.shape = (4, 5)\n",
            "y.shape = (4,)\n",
            "[[0 1 2 3 4]\n",
            " [1 2 3 4 5]\n",
            " [2 3 4 5 6]\n",
            " [3 4 5 6 7]]\n",
            "[5 6 7 8]\n",
            "\n",
            "\n",
            "generator[1]\n",
            "x.shape = (4, 5)\n",
            "y.shape = (4,)\n",
            "[[ 4  5  6  7  8]\n",
            " [ 5  6  7  8  9]\n",
            " [ 6  7  8  9 10]\n",
            " [ 7  8  9 10 11]]\n",
            "[ 9 10 11 12]\n"
          ],
          "name": "stdout"
        }
      ]
    },
    {
      "cell_type": "markdown",
      "metadata": {
        "id": "2YJeWOJyqd_2"
      },
      "source": [
        "## shuffle=True"
      ]
    },
    {
      "cell_type": "code",
      "metadata": {
        "colab": {
          "base_uri": "https://localhost:8080/"
        },
        "id": "p8nP7E5LrGSa",
        "outputId": "b914dd17-0d27-4d25-a72e-9a65097e6d87"
      },
      "source": [
        "import numpy as np\n",
        "\n",
        "series = np.arange(20)\n",
        "print(series)"
      ],
      "execution_count": 7,
      "outputs": [
        {
          "output_type": "stream",
          "text": [
            "[ 0  1  2  3  4  5  6  7  8  9 10 11 12 13 14 15 16 17 18 19]\n"
          ],
          "name": "stdout"
        }
      ]
    },
    {
      "cell_type": "code",
      "metadata": {
        "colab": {
          "base_uri": "https://localhost:8080/"
        },
        "id": "jGc5XlblqhBO",
        "outputId": "83f673d7-6177-434a-a5ca-b177699aa17d"
      },
      "source": [
        "from keras.preprocessing.sequence import TimeseriesGenerator\n",
        "\n",
        "# generator = TimeseriesGenerator(series, series, length=5, batch_size=4)\n",
        "generator = TimeseriesGenerator(series, series, length=5, batch_size=4, shuffle=True)\n",
        "\n",
        "print(\"generator[0]\")\n",
        "x, y = generator[0]\n",
        "print(\"x.shape =\",x.shape)\n",
        "print(\"y.shape =\",y.shape)\n",
        "\n",
        "print(x)\n",
        "print(y)\n",
        "print(\"\\n\")\n"
      ],
      "execution_count": 8,
      "outputs": [
        {
          "output_type": "stream",
          "text": [
            "generator[0]\n",
            "x.shape = (4, 5)\n",
            "y.shape = (4,)\n",
            "[[ 7  8  9 10 11]\n",
            " [12 13 14 15 16]\n",
            " [ 0  1  2  3  4]\n",
            " [ 9 10 11 12 13]]\n",
            "[12 17  5 14]\n",
            "\n",
            "\n"
          ],
          "name": "stdout"
        }
      ]
    },
    {
      "cell_type": "markdown",
      "metadata": {
        "id": "CG6eD4KirJAg"
      },
      "source": [
        "## sampling_rate"
      ]
    },
    {
      "cell_type": "code",
      "metadata": {
        "colab": {
          "base_uri": "https://localhost:8080/"
        },
        "id": "CeKETJlUrIgb",
        "outputId": "cb147d9b-c7c4-4f7e-f6f0-3404a5d2a3e7"
      },
      "source": [
        "import numpy as np\n",
        "\n",
        "series = np.arange(20)\n",
        "print(series)"
      ],
      "execution_count": 9,
      "outputs": [
        {
          "output_type": "stream",
          "text": [
            "[ 0  1  2  3  4  5  6  7  8  9 10 11 12 13 14 15 16 17 18 19]\n"
          ],
          "name": "stdout"
        }
      ]
    },
    {
      "cell_type": "code",
      "metadata": {
        "colab": {
          "base_uri": "https://localhost:8080/"
        },
        "id": "J8wLmBYjrNrt",
        "outputId": "c47f82dd-629e-4f47-d9aa-b2855beef15b"
      },
      "source": [
        "from keras.preprocessing.sequence import TimeseriesGenerator\n",
        "\n",
        "# generator = TimeseriesGenerator(series, series, length=5, batch_size=4)\n",
        "generator = TimeseriesGenerator(series, series, length=5, batch_size=4, sampling_rate=2)\n",
        "\n",
        "print(\"generator[0]\")\n",
        "x, y = generator[0]\n",
        "print(\"x.shape =\",x.shape)\n",
        "print(\"y.shape =\",y.shape)\n",
        "\n",
        "print(x)\n",
        "print(y)\n",
        "print(\"\\n\")\n"
      ],
      "execution_count": 10,
      "outputs": [
        {
          "output_type": "stream",
          "text": [
            "generator[0]\n",
            "x.shape = (4, 3)\n",
            "y.shape = (4,)\n",
            "[[0 2 4]\n",
            " [1 3 5]\n",
            " [2 4 6]\n",
            " [3 5 7]]\n",
            "[5 6 7 8]\n",
            "\n",
            "\n"
          ],
          "name": "stdout"
        }
      ]
    },
    {
      "cell_type": "markdown",
      "metadata": {
        "id": "zuNKFoZCreK_"
      },
      "source": [
        "## stride"
      ]
    },
    {
      "cell_type": "code",
      "metadata": {
        "colab": {
          "base_uri": "https://localhost:8080/"
        },
        "id": "IlIDs510rg6n",
        "outputId": "84e6c42c-fc13-46d8-f399-d1bd9c3fcc81"
      },
      "source": [
        "import numpy as np\n",
        "\n",
        "series = np.arange(20)\n",
        "print(series)"
      ],
      "execution_count": 11,
      "outputs": [
        {
          "output_type": "stream",
          "text": [
            "[ 0  1  2  3  4  5  6  7  8  9 10 11 12 13 14 15 16 17 18 19]\n"
          ],
          "name": "stdout"
        }
      ]
    },
    {
      "cell_type": "code",
      "metadata": {
        "colab": {
          "base_uri": "https://localhost:8080/"
        },
        "id": "mw1KZuT9rg6o",
        "outputId": "8f97e4a7-2698-4418-b651-39b66f216bfb"
      },
      "source": [
        "from keras.preprocessing.sequence import TimeseriesGenerator\n",
        "\n",
        "# generator = TimeseriesGenerator(series, series, length=5, batch_size=4)\n",
        "generator = TimeseriesGenerator(series, series, length=5, batch_size=4, stride=2)\n",
        "\n",
        "print(\"generator[0]\")\n",
        "x, y = generator[0]\n",
        "print(\"x.shape =\",x.shape)\n",
        "print(\"y.shape =\",y.shape)\n",
        "\n",
        "print(x)\n",
        "print(y)\n",
        "print(\"\\n\")\n"
      ],
      "execution_count": 12,
      "outputs": [
        {
          "output_type": "stream",
          "text": [
            "generator[0]\n",
            "x.shape = (4, 5)\n",
            "y.shape = (4,)\n",
            "[[ 0  1  2  3  4]\n",
            " [ 2  3  4  5  6]\n",
            " [ 4  5  6  7  8]\n",
            " [ 6  7  8  9 10]]\n",
            "[ 5  7  9 11]\n",
            "\n",
            "\n"
          ],
          "name": "stdout"
        }
      ]
    },
    {
      "cell_type": "markdown",
      "metadata": {
        "id": "rWWsZYqnrvv6"
      },
      "source": [
        "## start_index, end_index"
      ]
    },
    {
      "cell_type": "code",
      "metadata": {
        "colab": {
          "base_uri": "https://localhost:8080/"
        },
        "id": "PT7xfiasr1iV",
        "outputId": "f4bc8d8d-a333-45b5-923b-b8a13cb09d2c"
      },
      "source": [
        "import numpy as np\n",
        "\n",
        "series = np.arange(20)\n",
        "print(series)"
      ],
      "execution_count": 13,
      "outputs": [
        {
          "output_type": "stream",
          "text": [
            "[ 0  1  2  3  4  5  6  7  8  9 10 11 12 13 14 15 16 17 18 19]\n"
          ],
          "name": "stdout"
        }
      ]
    },
    {
      "cell_type": "code",
      "metadata": {
        "colab": {
          "base_uri": "https://localhost:8080/"
        },
        "id": "R1X4ubl5r1iW",
        "outputId": "1e2fd9d7-1585-4ea9-c390-66b52053016b"
      },
      "source": [
        "from keras.preprocessing.sequence import TimeseriesGenerator\n",
        "\n",
        "BIG_ENOUGH = len(series)+999\n",
        "# generator = TimeseriesGenerator(series, series, length=5, batch_size=4)\n",
        "train_generator = TimeseriesGenerator(series, series, length=5, batch_size=BIG_ENOUGH, end_index=12)\n",
        "test_generator = TimeseriesGenerator(series, series, length=5, batch_size=BIG_ENOUGH, start_index=12)\n",
        "\n",
        "print(\"train_generator[0]\")\n",
        "x, y = train_generator[0]\n",
        "print(\"x.shape =\",x.shape)\n",
        "print(\"y.shape =\",y.shape)\n",
        "\n",
        "print(x)\n",
        "print(y)\n",
        "print(\"\\n\")\n",
        "\n",
        "\n",
        "print(\"test_generator[0]\")\n",
        "x, y = test_generator[0]\n",
        "print(\"x.shape =\",x.shape)\n",
        "print(\"y.shape =\",y.shape)\n",
        "\n",
        "print(x)\n",
        "print(y)\n",
        "print(\"\\n\")\n"
      ],
      "execution_count": 14,
      "outputs": [
        {
          "output_type": "stream",
          "text": [
            "train_generator[0]\n",
            "x.shape = (8, 5)\n",
            "y.shape = (8,)\n",
            "[[ 0  1  2  3  4]\n",
            " [ 1  2  3  4  5]\n",
            " [ 2  3  4  5  6]\n",
            " [ 3  4  5  6  7]\n",
            " [ 4  5  6  7  8]\n",
            " [ 5  6  7  8  9]\n",
            " [ 6  7  8  9 10]\n",
            " [ 7  8  9 10 11]]\n",
            "[ 5  6  7  8  9 10 11 12]\n",
            "\n",
            "\n",
            "test_generator[0]\n",
            "x.shape = (3, 5)\n",
            "y.shape = (3,)\n",
            "[[12 13 14 15 16]\n",
            " [13 14 15 16 17]\n",
            " [14 15 16 17 18]]\n",
            "[17 18 19]\n",
            "\n",
            "\n"
          ],
          "name": "stdout"
        }
      ]
    },
    {
      "cell_type": "markdown",
      "metadata": {
        "id": "zIxCXaVMsa3P"
      },
      "source": [
        "## target"
      ]
    },
    {
      "cell_type": "code",
      "metadata": {
        "colab": {
          "base_uri": "https://localhost:8080/"
        },
        "id": "CuIWQerMsh8t",
        "outputId": "2f378eaa-0c83-4c8e-93c8-3f349cdbec9b"
      },
      "source": [
        "import numpy as np\n",
        "\n",
        "series = np.arange(20)\n",
        "print(series)"
      ],
      "execution_count": 15,
      "outputs": [
        {
          "output_type": "stream",
          "text": [
            "[ 0  1  2  3  4  5  6  7  8  9 10 11 12 13 14 15 16 17 18 19]\n"
          ],
          "name": "stdout"
        }
      ]
    },
    {
      "cell_type": "code",
      "metadata": {
        "id": "GEy5jGkFslAM"
      },
      "source": [
        "X_SEQUENCE_LENGTH = 5\n",
        "\n",
        "target = np.empty_like(series)\n",
        "target = (series%2==0).astype(np.int) # is even"
      ],
      "execution_count": 16,
      "outputs": []
    },
    {
      "cell_type": "code",
      "metadata": {
        "colab": {
          "base_uri": "https://localhost:8080/"
        },
        "id": "3IrUUxOstAm7",
        "outputId": "dd5ae27b-d525-484b-8df3-5b593a125af1"
      },
      "source": [
        "print(series)\n",
        "print(target)"
      ],
      "execution_count": 17,
      "outputs": [
        {
          "output_type": "stream",
          "text": [
            "[ 0  1  2  3  4  5  6  7  8  9 10 11 12 13 14 15 16 17 18 19]\n",
            "[1 0 1 0 1 0 1 0 1 0 1 0 1 0 1 0 1 0 1 0]\n"
          ],
          "name": "stdout"
        }
      ]
    },
    {
      "cell_type": "code",
      "metadata": {
        "colab": {
          "base_uri": "https://localhost:8080/"
        },
        "id": "DyauDzOatsw4",
        "outputId": "b9242471-e04c-41df-a275-4a904ad63f8f"
      },
      "source": [
        "from keras.preprocessing.sequence import TimeseriesGenerator\n",
        "\n",
        "# generator = TimeseriesGenerator(series, series, length=5, batch_size=4)\n",
        "generator = TimeseriesGenerator(series, target, length=5, batch_size=4)\n",
        "\n",
        "print(\"generator[0]\")\n",
        "x, y = generator[0]\n",
        "print(\"x.shape =\",x.shape)\n",
        "print(\"y.shape =\",y.shape)\n",
        "\n",
        "print(x)\n",
        "print(y)\n",
        "print(\"\\n\")\n"
      ],
      "execution_count": 18,
      "outputs": [
        {
          "output_type": "stream",
          "text": [
            "generator[0]\n",
            "x.shape = (4, 5)\n",
            "y.shape = (4,)\n",
            "[[0 1 2 3 4]\n",
            " [1 2 3 4 5]\n",
            " [2 3 4 5 6]\n",
            " [3 4 5 6 7]]\n",
            "[0 1 0 1]\n",
            "\n",
            "\n"
          ],
          "name": "stdout"
        }
      ]
    },
    {
      "cell_type": "markdown",
      "metadata": {
        "id": "HlvjOIOSuAug"
      },
      "source": [
        "# 다중 순차열 데이터"
      ]
    },
    {
      "cell_type": "code",
      "metadata": {
        "colab": {
          "base_uri": "https://localhost:8080/"
        },
        "id": "PxJV1jJTu7Hg",
        "outputId": "5639e453-f4a7-483d-8109-616c94bbe44a"
      },
      "source": [
        "import numpy as np\n",
        "\n",
        "series1 = np.arange(20)\n",
        "print(series1)\n",
        "\n",
        "series2 = np.arange(20)*-1\n",
        "print(series2)\n",
        "\n",
        "series = np.stack([series1, series2], axis=1)\n",
        "print(series)"
      ],
      "execution_count": 19,
      "outputs": [
        {
          "output_type": "stream",
          "text": [
            "[ 0  1  2  3  4  5  6  7  8  9 10 11 12 13 14 15 16 17 18 19]\n",
            "[  0  -1  -2  -3  -4  -5  -6  -7  -8  -9 -10 -11 -12 -13 -14 -15 -16 -17\n",
            " -18 -19]\n",
            "[[  0   0]\n",
            " [  1  -1]\n",
            " [  2  -2]\n",
            " [  3  -3]\n",
            " [  4  -4]\n",
            " [  5  -5]\n",
            " [  6  -6]\n",
            " [  7  -7]\n",
            " [  8  -8]\n",
            " [  9  -9]\n",
            " [ 10 -10]\n",
            " [ 11 -11]\n",
            " [ 12 -12]\n",
            " [ 13 -13]\n",
            " [ 14 -14]\n",
            " [ 15 -15]\n",
            " [ 16 -16]\n",
            " [ 17 -17]\n",
            " [ 18 -18]\n",
            " [ 19 -19]]\n"
          ],
          "name": "stdout"
        }
      ]
    },
    {
      "cell_type": "code",
      "metadata": {
        "colab": {
          "base_uri": "https://localhost:8080/"
        },
        "id": "P7NinMGov1pd",
        "outputId": "972756bf-d184-4b5b-f0da-c186afc4816e"
      },
      "source": [
        "from keras.preprocessing.sequence import TimeseriesGenerator\n",
        "\n",
        "generator = TimeseriesGenerator(series, series, length=5, batch_size=4)\n",
        "\n",
        "print(\"generator[0]\")\n",
        "x, y = generator[0]\n",
        "print(\"x.shape =\",x.shape)\n",
        "print(\"y.shape =\",y.shape)\n",
        "\n",
        "print(x)\n",
        "print(y)\n",
        "print(\"\\n\")\n"
      ],
      "execution_count": 20,
      "outputs": [
        {
          "output_type": "stream",
          "text": [
            "generator[0]\n",
            "x.shape = (4, 5, 2)\n",
            "y.shape = (4, 2)\n",
            "[[[ 0  0]\n",
            "  [ 1 -1]\n",
            "  [ 2 -2]\n",
            "  [ 3 -3]\n",
            "  [ 4 -4]]\n",
            "\n",
            " [[ 1 -1]\n",
            "  [ 2 -2]\n",
            "  [ 3 -3]\n",
            "  [ 4 -4]\n",
            "  [ 5 -5]]\n",
            "\n",
            " [[ 2 -2]\n",
            "  [ 3 -3]\n",
            "  [ 4 -4]\n",
            "  [ 5 -5]\n",
            "  [ 6 -6]]\n",
            "\n",
            " [[ 3 -3]\n",
            "  [ 4 -4]\n",
            "  [ 5 -5]\n",
            "  [ 6 -6]\n",
            "  [ 7 -7]]]\n",
            "[[ 5 -5]\n",
            " [ 6 -6]\n",
            " [ 7 -7]\n",
            " [ 8 -8]]\n",
            "\n",
            "\n"
          ],
          "name": "stdout"
        }
      ]
    },
    {
      "cell_type": "markdown",
      "metadata": {
        "id": "S3JnBu8xdERY"
      },
      "source": [
        "# sine 데이터 예"
      ]
    },
    {
      "cell_type": "code",
      "metadata": {
        "id": "IlfhRplJdDHw"
      },
      "source": [
        "import numpy as np\n",
        "\n",
        "series = np.arange(0,100,0.1)\n",
        "series = np.sin(series)"
      ],
      "execution_count": 21,
      "outputs": []
    },
    {
      "cell_type": "code",
      "metadata": {
        "colab": {
          "base_uri": "https://localhost:8080/",
          "height": 265
        },
        "id": "4r9mZ0QodSwi",
        "outputId": "9c8c3071-f584-4860-e825-84bff54b41cb"
      },
      "source": [
        "import matplotlib.pyplot as plt\n",
        "plt.plot(series)\n",
        "plt.show()"
      ],
      "execution_count": 22,
      "outputs": [
        {
          "output_type": "display_data",
          "data": {
            "image/png": "[encoded data removed]",
            "text/plain": [
              "<Figure size 432x288 with 1 Axes>"
            ]
          },
          "metadata": {
            "tags": [],
            "needs_background": "light"
          }
        }
      ]
    },
    {
      "cell_type": "code",
      "metadata": {
        "colab": {
          "base_uri": "https://localhost:8080/",
          "height": 265
        },
        "id": "Pzbj8Vundwh5",
        "outputId": "c11a6661-60c6-47b0-8d9c-ca0e1831a13b"
      },
      "source": [
        "from keras.preprocessing.sequence import TimeseriesGenerator\n",
        "\n",
        "split_index = int(len(series)*0.8)\n",
        "generator = TimeseriesGenerator(series, series, length=30, batch_size=8, \n",
        "                                shuffle=True, end_index=split_index)\n",
        "\n",
        "test_generator = TimeseriesGenerator(series, series, length=30, batch_size=128, \n",
        "                                     shuffle=False, start_index=split_index)\n",
        "\n",
        "x, y = generator[0]\n",
        "plt.plot(x[0])\n",
        "plt.plot(y[0], 'o')\n",
        "plt.plot(x[1])\n",
        "plt.plot(y[1], 'o')\n",
        "plt.show()"
      ],
      "execution_count": 37,
      "outputs": [
        {
          "output_type": "display_data",
          "data": {
            "image/png": "[encoded data removed]",
            "text/plain": [
              "<Figure size 432x288 with 1 Axes>"
            ]
          },
          "metadata": {
            "tags": [],
            "needs_background": "light"
          }
        }
      ]
    },
    {
      "cell_type": "markdown",
      "metadata": {
        "id": "LJdZ8wopgk_J"
      },
      "source": [
        "## by DNN"
      ]
    },
    {
      "cell_type": "code",
      "metadata": {
        "colab": {
          "base_uri": "https://localhost:8080/"
        },
        "id": "ATiEaxxvjPkU",
        "outputId": "fbad075b-f614-4397-9793-01a4db9fdf62"
      },
      "source": [
        "from keras.models import Sequential\n",
        "from keras.layers import Dense, Input\n",
        "\n",
        "model = Sequential()\n",
        "model.add(Input((30,)))\n",
        "model.add(Dense(10, activation='relu'))\n",
        "model.add(Dense(1))\n",
        "model.compile(optimizer='adam', loss='mse', metrics=['mae'])\n",
        "\n",
        "model.fit(generator, steps_per_epoch=1, epochs=500, verbose=0)\n"
      ],
      "execution_count": 38,
      "outputs": [
        {
          "output_type": "stream",
          "text": [
            "WARNING:tensorflow:Please add `keras.layers.InputLayer` instead of `keras.Input` to Sequential model. `keras.Input` is intended to be used by Functional model.\n"
          ],
          "name": "stdout"
        },
        {
          "output_type": "execute_result",
          "data": {
            "text/plain": [
              "<keras.callbacks.History at 0x7fa57d5ecf10>"
            ]
          },
          "metadata": {
            "tags": []
          },
          "execution_count": 38
        }
      ]
    },
    {
      "cell_type": "code",
      "metadata": {
        "colab": {
          "base_uri": "https://localhost:8080/",
          "height": 298
        },
        "id": "E_SEVDWCjXFV",
        "outputId": "0fbb3700-c9ba-4b91-e0ef-426d57f0b636"
      },
      "source": [
        "loss, mae = model.evaluate(test_generator)\n",
        "print(\"mae=\", mae)\n",
        "\n",
        "x, y = test_generator[0]\n",
        "y_ = model.predict(x)\n",
        "plt.plot(y, 'o', label='target')\n",
        "plt.plot(y_, label='predicted')\n",
        "plt.legend()\n",
        "plt.show()"
      ],
      "execution_count": 39,
      "outputs": [
        {
          "output_type": "stream",
          "text": [
            "2/2 [==============================] - 0s 7ms/step - loss: 2.9118e-04 - mae: 0.0128\n",
            "mae= 0.01284436322748661\n"
          ],
          "name": "stdout"
        },
        {
          "output_type": "display_data",
          "data": {
            "image/png": "[encoded data removed]",
            "text/plain": [
              "<Figure size 432x288 with 1 Axes>"
            ]
          },
          "metadata": {
            "tags": [],
            "needs_background": "light"
          }
        }
      ]
    },
    {
      "cell_type": "markdown",
      "metadata": {
        "id": "mwSggfcAjMP7"
      },
      "source": [
        "## by LSTM"
      ]
    },
    {
      "cell_type": "code",
      "metadata": {
        "colab": {
          "base_uri": "https://localhost:8080/"
        },
        "id": "ke1ePiHld-Ta",
        "outputId": "091716e7-a8da-43ce-d09b-f710f0c40658"
      },
      "source": [
        "from keras.models import Sequential\n",
        "from keras.layers import Dense, Input, Reshape, LSTM\n",
        "\n",
        "model = Sequential()\n",
        "model.add(Input((30,)))\n",
        "model.add(Reshape((30,1)))\n",
        "model.add(LSTM(100, activation='relu'))\n",
        "model.add(Dense(1))\n",
        "model.compile(optimizer='adam', loss='mse', metrics=['mae'])\n",
        "\n",
        "model.fit(generator, steps_per_epoch=1, epochs=500, verbose=0)\n"
      ],
      "execution_count": 40,
      "outputs": [
        {
          "output_type": "stream",
          "text": [
            "WARNING:tensorflow:Please add `keras.layers.InputLayer` instead of `keras.Input` to Sequential model. `keras.Input` is intended to be used by Functional model.\n"
          ],
          "name": "stdout"
        },
        {
          "output_type": "execute_result",
          "data": {
            "text/plain": [
              "<keras.callbacks.History at 0x7fa5750cbe10>"
            ]
          },
          "metadata": {
            "tags": []
          },
          "execution_count": 40
        }
      ]
    },
    {
      "cell_type": "code",
      "metadata": {
        "colab": {
          "base_uri": "https://localhost:8080/",
          "height": 298
        },
        "id": "dE-4jTAOhgZE",
        "outputId": "89f2c2d6-5cb3-43bc-a986-7a0d9182dbdd"
      },
      "source": [
        "loss, mae = model.evaluate(test_generator)\n",
        "print(\"mae=\", mae)\n",
        "\n",
        "x, y = test_generator[0]\n",
        "y_ = model.predict(x)\n",
        "plt.plot(y, 'o', label='target')\n",
        "plt.plot(y_, label='predicted')\n",
        "plt.legend()\n",
        "plt.show()"
      ],
      "execution_count": 41,
      "outputs": [
        {
          "output_type": "stream",
          "text": [
            "2/2 [==============================] - 1s 13ms/step - loss: 1.0535e-05 - mae: 0.0026\n",
            "mae= 0.0026315029244869947\n"
          ],
          "name": "stdout"
        },
        {
          "output_type": "display_data",
          "data": {
            "image/png": "[encoded data removed]",
            "text/plain": [
              "<Figure size 432x288 with 1 Axes>"
            ]
          },
          "metadata": {
            "tags": [],
            "needs_background": "light"
          }
        }
      ]
    },
    {
      "cell_type": "code",
      "metadata": {
        "id": "DuXhs5kBCLxp"
      },
      "source": [
        ""
      ],
      "execution_count": 41,
      "outputs": []
    }
  ]
}