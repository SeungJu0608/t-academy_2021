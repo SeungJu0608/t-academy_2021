{
  "nbformat": 4,
  "nbformat_minor": 0,
  "metadata": {
    "colab": {
      "name": "2flowers_classification.ipynb",
      "provenance": [],
      "toc_visible": true
    },
    "kernelspec": {
      "name": "python3",
      "display_name": "Python 3"
    },
    "language_info": {
      "name": "python"
    },
    "accelerator": "GPU"
  },
  "cells": [
    {
      "cell_type": "markdown",
      "metadata": {
        "id": "AzPqrelclS78"
      },
      "source": [
        "# 실습 요구사항\n",
        "\n",
        "- 2개 카테고리로 분류\n",
        "- 2개의 모델로 학습\n",
        "  - vanila CNN <-- 정확도는 무시\n",
        "  - 전이학습\n",
        "- 각 모델에 대하여\n",
        "  - 로스 그래프를 실시간으로 그린다.\n",
        "  - 100 epoch 이상\n",
        "  - 50 epoch까지 오버피팅이 발생하지 않는다.\n",
        "  - 정확도 95%\n",
        "  - 파라매터 갯수가 1000만개 미만으로\n",
        "\n"
      ]
    },
    {
      "cell_type": "markdown",
      "metadata": {
        "id": "Au0P1yRs_akG"
      },
      "source": [
        "# TODO\n",
        "\n",
        "- ~데이터~\n",
        "  - ~다운로드~\n",
        "  - ~압축 풀기~\n",
        "  - ~Keras 폴더 구성~\n",
        "  - ~파일 복사~\n",
        "\n",
        "- Vanial CNN\n",
        "  - ~데이터 로딩~\n",
        "  - ~코드 수정~\n",
        "  - ~실시간 로스 보기~\n",
        "\n",
        "- 전이학습\n",
        "  - ~데이터 로딩~\n",
        "  - ~전이학습 코드 수정~\n",
        "  - ~실시간 로스 보기~\n",
        "  - ~모델 크기 조정~ <-- 1040까지 줄였다.\n",
        "  - ~오버피팅 완화~\n",
        "  - ~성능 확보~\n",
        "\n",
        "\n"
      ]
    },
    {
      "cell_type": "markdown",
      "metadata": {
        "id": "BvdxztmT3w8n"
      },
      "source": [
        "# 데이터"
      ]
    },
    {
      "cell_type": "code",
      "metadata": {
        "colab": {
          "base_uri": "https://localhost:8080/"
        },
        "id": "ntmpJQ1TlSKX",
        "outputId": "fa4475ac-a526-413b-a84b-5cff2c1a5ff6"
      },
      "source": [
        "!wget https://github.com/dhrim/t-academy_2021/raw/master/material/deep_learning/practice/2flowers.zip"
      ],
      "execution_count": 1,
      "outputs": [
        {
          "output_type": "stream",
          "text": [
            "--2021-08-18 01:27:43--  https://github.com/dhrim/t-academy_2021/raw/master/material/deep_learning/practice/2flowers.zip\n",
            "Resolving github.com (github.com)... 192.30.255.113\n",
            "Connecting to github.com (github.com)|192.30.255.113|:443... connected.\n",
            "HTTP request sent, awaiting response... 302 Found\n",
            "Location: https://raw.githubusercontent.com/dhrim/t-academy_2021/master/material/deep_learning/practice/2flowers.zip [following]\n",
            "--2021-08-18 01:27:43--  https://raw.githubusercontent.com/dhrim/t-academy_2021/master/material/deep_learning/practice/2flowers.zip\n",
            "Resolving raw.githubusercontent.com (raw.githubusercontent.com)... 185.199.108.133, 185.199.109.133, 185.199.110.133, ...\n",
            "Connecting to raw.githubusercontent.com (raw.githubusercontent.com)|185.199.108.133|:443... connected.\n",
            "HTTP request sent, awaiting response... 200 OK\n",
            "Length: 19768598 (19M) [application/zip]\n",
            "Saving to: ‘2flowers.zip’\n",
            "\n",
            "\r2flowers.zip          0%[                    ]       0  --.-KB/s               \r2flowers.zip        100%[===================>]  18.85M  --.-KB/s    in 0.1s    \n",
            "\n",
            "2021-08-18 01:27:43 (177 MB/s) - ‘2flowers.zip’ saved [19768598/19768598]\n",
            "\n"
          ],
          "name": "stdout"
        }
      ]
    },
    {
      "cell_type": "code",
      "metadata": {
        "id": "eYSENITH3wKs"
      },
      "source": [
        "!unzip 2flowers.zip"
      ],
      "execution_count": null,
      "outputs": []
    },
    {
      "cell_type": "markdown",
      "metadata": {
        "id": "a9_y9ohY8-nJ"
      },
      "source": [
        "## Keras 표준 디렉토리 구조로 준비\n",
        "\n",
        "```\n",
        "2flowers/\n",
        "  daisy/\n",
        "  dandeliion/\n",
        "```\n",
        "위 구조로 있던 파일들을 가지고 아래의 Keras 표준 구조로 만든다.\n",
        "\n",
        "```\n",
        "prepared/\n",
        "  train/\n",
        "    daisy/\n",
        "    dandeliion/\n",
        "  test/\n",
        "    daisy/\n",
        "    dandeliion/\n",
        "```\n"
      ]
    },
    {
      "cell_type": "code",
      "metadata": {
        "id": "RjOqKcX-5Gox"
      },
      "source": [
        "!mkdir 2flowers\n",
        "\n",
        "!mv daisy 2flowers/\n",
        "!mv dandelion 2flowers/"
      ],
      "execution_count": 5,
      "outputs": []
    },
    {
      "cell_type": "code",
      "metadata": {
        "id": "zUpASMrB3z7H"
      },
      "source": [
        "!rm -rf prepared\n",
        "\n",
        "!mkdir -p prepared/train/daisy\n",
        "!mkdir -p prepared/train/dandelion\n",
        "!mkdir -p prepared/test/daisy\n",
        "!mkdir -p prepared/test/dandelion"
      ],
      "execution_count": 18,
      "outputs": []
    },
    {
      "cell_type": "code",
      "metadata": {
        "colab": {
          "base_uri": "https://localhost:8080/"
        },
        "id": "O6wF9CjD4jJN",
        "outputId": "ff6329ca-444a-44db-c764-b6a86c155a2b"
      },
      "source": [
        "import glob\n",
        "import os\n",
        "import random\n",
        "import shutil\n",
        "\n",
        "base_path = \"2flowers\"\n",
        "\n",
        "# 2flowers/daisy/*.jpg 파일들을 \n",
        "# preapred/train/daisy/ 과  prepared/test/daisy/에 8:2로 카피한다.\n",
        "# category_name에는 카테고리 이름 'daisy'와 'dandeliion'이 전달된다.\n",
        "def copy_files(category_name):\n",
        "\n",
        "  path = os.path.join(base_path, category_name, \"*\")\n",
        "  print(path)\n",
        "  # path = \"2flowers/daisy/*\"\n",
        "\n",
        "  # 폴더 밑의 파일이름 구하기\n",
        "  file_list = glob.glob(path)\n",
        "  print(file_list[:5])\n",
        "  # file_list = ['2flowers/daisy/430.jpg', ... ]\n",
        "  print(len(file_list))\n",
        "\n",
        "  # 파일 리스트를 섞어주고\n",
        "  random.shuffle(file_list)\n",
        "\n",
        "\n",
        "  # 8:2가 되는 인덱스를 구한다.\n",
        "  # len(file_list) = 262 -> split_index = 209\n",
        "  split_index = int(len(file_list)*0.8)\n",
        "\n",
        "\n",
        "  # 각 파일들을 카피한다.\n",
        "  for i in range(len(file_list)):\n",
        "    if i < split_index:\n",
        "      dst = os.path.join(\"prepared\", \"train\", category_name)\n",
        "    else:\n",
        "      dst = os.path.join(\"prepared\", \"test\", category_name)\n",
        "\n",
        "    shutil.copy(file_list[i], dst)\n",
        "\n",
        "\n",
        "copy_files(\"daisy\")\n",
        "copy_files(\"dandelion\")"
      ],
      "execution_count": 19,
      "outputs": [
        {
          "output_type": "stream",
          "text": [
            "2flowers/daisy/*\n",
            "['2flowers/daisy/4301689054_20519e5b68_jpg.rf.f66c5ddb62999312cda46fa048756c8e.jpg', '2flowers/daisy/5110109540_beed4ed162_m_jpg.rf.0e548287e9400187aee869a511461b1d.jpg', '2flowers/daisy/909609509_a05ccb8127_jpg.rf.f9b8336eddf3d1d80dc74d29e594c41c.jpg', '2flowers/daisy/4923279674_e7f8e70794_n_jpg.rf.2c1fd1168d1e627a776aa89093617099.jpg', '2flowers/daisy/2635314490_e12d3b0f36_m_jpg.rf.3922030582696dc1a59cd0fc30a470cc.jpg']\n",
            "262\n",
            "2flowers/dandelion/*\n",
            "['2flowers/dandelion/645330051_06b192b7e1_jpg.rf.7614736767cc162d46f2eac9c9cc79de.jpg', '2flowers/dandelion/3419166382_a5e4b8fe6d_m_jpg.rf.3676b2f0d3c8655d84ad3201cadacdfe.jpg', '2flowers/dandelion/2625836599_03e192266f_jpg.rf.ee6860170a708464750eeb49a817ba50.jpg', '2flowers/dandelion/2637883118_cf6ce37be4_n_jpg.rf.8aa4a688148aaf53635d36f3fc9a2a88.jpg', '2flowers/dandelion/5646743865_a8f20b60f7_n_jpg.rf.c10e8602d5eb5c83b569945e61f721dc.jpg']\n",
            "302\n"
          ],
          "name": "stdout"
        }
      ]
    },
    {
      "cell_type": "code",
      "metadata": {
        "colab": {
          "base_uri": "https://localhost:8080/"
        },
        "id": "pRp9Og0V5Pen",
        "outputId": "84e16eac-64d8-487d-c061-83bba68c4d64"
      },
      "source": [
        "!ls -al prepared/train/daisy/* | wc\n",
        "!ls -al prepared/test/daisy/* | wc\n",
        "!ls -al prepared/train/dandelion/* | wc\n",
        "!ls -al prepared/test/dandelion/* | wc"
      ],
      "execution_count": 20,
      "outputs": [
        {
          "output_type": "stream",
          "text": [
            "    209    1881   27402\n",
            "     53     477    6846\n",
            "    241    2169   32288\n",
            "     61     549    8108\n"
          ],
          "name": "stdout"
        }
      ]
    },
    {
      "cell_type": "markdown",
      "metadata": {
        "id": "USfRbZ4mdVxC"
      },
      "source": [
        "# loss 그리기 callback"
      ]
    },
    {
      "cell_type": "code",
      "metadata": {
        "id": "-AsyzB--dZWX"
      },
      "source": [
        "# copy from https://gist.github.com/stared/dfb4dfaf6d9a8501cd1cc8b8cb806d2e\n",
        "\n",
        "from IPython.display import clear_output\n",
        "from tensorflow.keras.callbacks import Callback\n",
        "\n",
        "class PlotLosses(Callback):\n",
        "\n",
        "  def on_train_begin(self, logs={}):\n",
        "\n",
        "    self.i = 0\n",
        "    self.x = []\n",
        "    self.losses = []\n",
        "    self.val_losses = []\n",
        "\n",
        "    self.fig = plt.figure()\n",
        "\n",
        "    self.logs = []\n",
        "\n",
        "\n",
        "  def on_epoch_end(self, epoch, logs={}):\n",
        "\n",
        "    self.logs.append(logs)\n",
        "    self.x.append(self.i)\n",
        "    self.losses.append(logs.get('loss'))\n",
        "    self.val_losses.append(logs.get('val_loss'))\n",
        "    self.i += 1\n",
        "\n",
        "    clear_output(wait=True)\n",
        "    plt.plot(self.x, self.losses, label=\"loss\")\n",
        "    plt.plot(self.x, self.val_losses, label=\"val_loss\")\n",
        "    plt.legend()\n",
        "    plt.show();\n",
        "    print(\"loss = \", self.losses[-1], \", val_loss = \", self.val_losses[-1])\n"
      ],
      "execution_count": null,
      "outputs": []
    },
    {
      "cell_type": "markdown",
      "metadata": {
        "id": "QTvAfJo3Hp4w"
      },
      "source": [
        "# Vanilla CNN"
      ]
    },
    {
      "cell_type": "markdown",
      "metadata": {
        "id": "H5bz2fcdIIPF"
      },
      "source": [
        "## 모델 정의"
      ]
    },
    {
      "cell_type": "markdown",
      "metadata": {
        "id": "Q0z8wuUyE0Om"
      },
      "source": [
        "수정할 사항\n",
        "- 입력 사이즈\n",
        "- 출력층 노드 수\n"
      ]
    },
    {
      "cell_type": "code",
      "metadata": {
        "colab": {
          "base_uri": "https://localhost:8080/"
        },
        "id": "ZFrPbdqmHvBt",
        "outputId": "68bc5a35-2dbe-4268-80a0-41b577b3c579"
      },
      "source": [
        "import numpy as np\n",
        "import matplotlib.pyplot as plt\n",
        "\n",
        "import tensorflow as tf\n",
        "from tensorflow import keras\n",
        "from tensorflow.keras import optimizers\n",
        "from tensorflow.keras.layers import Dense, Flatten, Conv2D, MaxPooling2D, Input, Reshape, BatchNormalization\n",
        "\n",
        "\n",
        "model = keras.Sequential()\n",
        "\n",
        "model.add(Input((224,224,3)))\n",
        "\n",
        "model.add(Conv2D(32, (3, 3), padding='same'))\n",
        "model.add(Conv2D(32, (3, 3), padding='same'))\n",
        "model.add(BatchNormalization())\n",
        "model.add(MaxPooling2D((2, 2)))\n",
        "\n",
        "model.add(Conv2D(64, (3, 3), padding='same'))\n",
        "model.add(Conv2D(64, (3, 3), padding='same'))\n",
        "model.add(BatchNormalization())\n",
        "model.add(MaxPooling2D((2, 2)))\n",
        "\n",
        "model.add(Conv2D(128, (3, 3), padding='same'))\n",
        "model.add(Conv2D(128, (3, 3), padding='same'))\n",
        "model.add(BatchNormalization())\n",
        "model.add(MaxPooling2D((2, 2)))\n",
        "\n",
        "model.add(Conv2D(128, (3, 3), padding='same'))\n",
        "model.add(Conv2D(128, (3, 3), padding='same'))\n",
        "model.add(BatchNormalization())\n",
        "model.add(MaxPooling2D((2, 2)))\n",
        "\n",
        "model.add(Conv2D(128, (3, 3), padding='same'))\n",
        "model.add(Conv2D(128, (3, 3), padding='same'))\n",
        "model.add(BatchNormalization())\n",
        "model.add(MaxPooling2D((2, 2)))\n",
        "\n",
        "model.add(Flatten())\n",
        "model.add(Dense(40, activation='relu'))\n",
        "model.add(Dense(30, activation='relu'))\n",
        "model.add(Dense(2, activation='softmax'))\n",
        "\n",
        "model.compile(optimizer=\"adam\", loss=\"sparse_categorical_crossentropy\", metrics=[\"accuracy\"])\n",
        "model.summary()\n"
      ],
      "execution_count": 58,
      "outputs": [
        {
          "output_type": "stream",
          "text": [
            "Model: \"sequential_15\"\n",
            "_________________________________________________________________\n",
            "Layer (type)                 Output Shape              Param #   \n",
            "=================================================================\n",
            "conv2d_10 (Conv2D)           (None, 224, 224, 32)      896       \n",
            "_________________________________________________________________\n",
            "conv2d_11 (Conv2D)           (None, 224, 224, 32)      9248      \n",
            "_________________________________________________________________\n",
            "batch_normalization_25 (Batc (None, 224, 224, 32)      128       \n",
            "_________________________________________________________________\n",
            "max_pooling2d_5 (MaxPooling2 (None, 112, 112, 32)      0         \n",
            "_________________________________________________________________\n",
            "conv2d_12 (Conv2D)           (None, 112, 112, 64)      18496     \n",
            "_________________________________________________________________\n",
            "conv2d_13 (Conv2D)           (None, 112, 112, 64)      36928     \n",
            "_________________________________________________________________\n",
            "batch_normalization_26 (Batc (None, 112, 112, 64)      256       \n",
            "_________________________________________________________________\n",
            "max_pooling2d_6 (MaxPooling2 (None, 56, 56, 64)        0         \n",
            "_________________________________________________________________\n",
            "conv2d_14 (Conv2D)           (None, 56, 56, 128)       73856     \n",
            "_________________________________________________________________\n",
            "conv2d_15 (Conv2D)           (None, 56, 56, 128)       147584    \n",
            "_________________________________________________________________\n",
            "batch_normalization_27 (Batc (None, 56, 56, 128)       512       \n",
            "_________________________________________________________________\n",
            "max_pooling2d_7 (MaxPooling2 (None, 28, 28, 128)       0         \n",
            "_________________________________________________________________\n",
            "conv2d_16 (Conv2D)           (None, 28, 28, 128)       147584    \n",
            "_________________________________________________________________\n",
            "conv2d_17 (Conv2D)           (None, 28, 28, 128)       147584    \n",
            "_________________________________________________________________\n",
            "batch_normalization_28 (Batc (None, 28, 28, 128)       512       \n",
            "_________________________________________________________________\n",
            "max_pooling2d_8 (MaxPooling2 (None, 14, 14, 128)       0         \n",
            "_________________________________________________________________\n",
            "conv2d_18 (Conv2D)           (None, 14, 14, 128)       147584    \n",
            "_________________________________________________________________\n",
            "conv2d_19 (Conv2D)           (None, 14, 14, 128)       147584    \n",
            "_________________________________________________________________\n",
            "batch_normalization_29 (Batc (None, 14, 14, 128)       512       \n",
            "_________________________________________________________________\n",
            "max_pooling2d_9 (MaxPooling2 (None, 7, 7, 128)         0         \n",
            "_________________________________________________________________\n",
            "flatten_15 (Flatten)         (None, 6272)              0         \n",
            "_________________________________________________________________\n",
            "dense_40 (Dense)             (None, 40)                250920    \n",
            "_________________________________________________________________\n",
            "dense_41 (Dense)             (None, 30)                1230      \n",
            "_________________________________________________________________\n",
            "dense_42 (Dense)             (None, 2)                 62        \n",
            "=================================================================\n",
            "Total params: 1,131,476\n",
            "Trainable params: 1,130,516\n",
            "Non-trainable params: 960\n",
            "_________________________________________________________________\n"
          ],
          "name": "stdout"
        }
      ]
    },
    {
      "cell_type": "markdown",
      "metadata": {
        "id": "SeYiusvWIK-t"
      },
      "source": [
        "## ImageDataGenerator 생성"
      ]
    },
    {
      "cell_type": "code",
      "metadata": {
        "colab": {
          "base_uri": "https://localhost:8080/"
        },
        "id": "SZ1FOV0RHvBu",
        "outputId": "f708e388-9467-4ab8-ad12-a6e204b3f9a4"
      },
      "source": [
        "from tensorflow.keras.preprocessing.image import ImageDataGenerator\n",
        "\n",
        "train_data_generator = ImageDataGenerator(\n",
        "      rotation_range=10,\n",
        "      width_shift_range=0.1,\n",
        "      height_shift_range=0.1,\n",
        "      horizontal_flip=True,\n",
        "      vertical_flip=False,\n",
        "      rescale=1./255,\n",
        "      # preprocessing_function=efficientnet.preprocess_input\n",
        ").flow_from_directory(\n",
        "      \"prepared/train\",\n",
        "      target_size=(224,224),\n",
        "      batch_size=64,\n",
        "      class_mode='sparse'\n",
        ")\n",
        "\n",
        "test_data_generator = ImageDataGenerator(\n",
        "      rescale=1./255,    \n",
        "      # preprocessing_function=efficientnet.preprocess_input\n",
        ").flow_from_directory(\n",
        "      \"prepared/test\",\n",
        "      target_size=(224,224),\n",
        "      batch_size=64,\n",
        "      class_mode='sparse'\n",
        ")\n"
      ],
      "execution_count": 59,
      "outputs": [
        {
          "output_type": "stream",
          "text": [
            "Found 450 images belonging to 2 classes.\n",
            "Found 114 images belonging to 2 classes.\n"
          ],
          "name": "stdout"
        }
      ]
    },
    {
      "cell_type": "markdown",
      "metadata": {
        "id": "LZcx_OuTIPqx"
      },
      "source": [
        "## 학습"
      ]
    },
    {
      "cell_type": "code",
      "metadata": {
        "colab": {
          "base_uri": "https://localhost:8080/",
          "height": 298
        },
        "id": "y1uULLj-HvBv",
        "outputId": "66eab9ca-ac49-4cce-80b9-0304ce63756b"
      },
      "source": [
        "plot_losses = PlotLosses()\n",
        "\n",
        "model.fit(\n",
        "      train_data_generator,\n",
        "      validation_data=test_data_generator,\n",
        "      steps_per_epoch=train_data_generator.samples/64,  \n",
        "      validation_steps=test_data_generator.samples/64,      \n",
        "      epochs=100,\n",
        "      callbacks=[plot_losses]\n",
        ")"
      ],
      "execution_count": 60,
      "outputs": [
        {
          "output_type": "display_data",
          "data": {
            "image/png": "[encoded data removed]",
            "text/plain": [
              "<Figure size 432x288 with 1 Axes>"
            ]
          },
          "metadata": {
            "tags": [],
            "needs_background": "light"
          }
        },
        {
          "output_type": "stream",
          "text": [
            "loss =  0.4119311273097992 , val_loss =  0.5816788673400879\n"
          ],
          "name": "stdout"
        },
        {
          "output_type": "execute_result",
          "data": {
            "text/plain": [
              "<keras.callbacks.History at 0x7f285dce6ad0>"
            ]
          },
          "metadata": {
            "tags": []
          },
          "execution_count": 60
        }
      ]
    },
    {
      "cell_type": "markdown",
      "metadata": {
        "id": "pryP721nIRcM"
      },
      "source": [
        "## 평가"
      ]
    },
    {
      "cell_type": "code",
      "metadata": {
        "colab": {
          "base_uri": "https://localhost:8080/"
        },
        "id": "E7YQinF8HvBv",
        "outputId": "83102bcb-77c7-4433-ef37-de6cacbce258"
      },
      "source": [
        "loss, acc = model.evaluate(\n",
        "      test_data_generator,\n",
        "      steps=test_data_generator.samples/64\n",
        ")\n",
        "print(\"loss=\", loss)\n",
        "print(\"acc=\", acc)\n"
      ],
      "execution_count": 62,
      "outputs": [
        {
          "output_type": "stream",
          "text": [
            "1/1 [==============================] - 1s 251ms/step - loss: 0.5817 - accuracy: 0.7456\n",
            "loss= 0.5816788673400879\n",
            "acc= 0.7456140518188477\n"
          ],
          "name": "stdout"
        }
      ]
    },
    {
      "cell_type": "markdown",
      "metadata": {
        "id": "KV4fyZMxISxK"
      },
      "source": [
        "## 예측"
      ]
    },
    {
      "cell_type": "code",
      "metadata": {
        "colab": {
          "base_uri": "https://localhost:8080/"
        },
        "id": "tYmtCWwlHvBv",
        "outputId": "a0f674bd-dc7f-4e22-892d-a25330008a9b"
      },
      "source": [
        "\n",
        "y_ = model.predict(\n",
        "      test_data_generator,\n",
        "      steps=test_data_generator.samples/64\n",
        ")\n",
        "\n",
        "custom_labels = list(test_data_generator.class_indices.keys())\n",
        "predicted = np.argmax(y_, axis=1)\n",
        "print(\"predicted category index =\", predicted[0])\n",
        "print(\"predicted category name =\", custom_labels[predicted[0]])\n"
      ],
      "execution_count": 63,
      "outputs": [
        {
          "output_type": "stream",
          "text": [
            "predicted category index = 1\n",
            "predicted category name = dandelion\n"
          ],
          "name": "stdout"
        }
      ]
    },
    {
      "cell_type": "code",
      "metadata": {
        "id": "Mmr2p73yYnMI"
      },
      "source": [
        ""
      ],
      "execution_count": null,
      "outputs": []
    },
    {
      "cell_type": "markdown",
      "metadata": {
        "id": "-62XszjMAR4y"
      },
      "source": [
        "## 로스 그리기 callback"
      ]
    },
    {
      "cell_type": "code",
      "metadata": {
        "id": "hE-NG0u5AVT0"
      },
      "source": [
        "# copy from https://gist.github.com/stared/dfb4dfaf6d9a8501cd1cc8b8cb806d2e\n",
        "\n",
        "from IPython.display import clear_output\n",
        "from tensorflow.keras.callbacks import Callback\n",
        "\n",
        "class PlotLosses(Callback):\n",
        "\n",
        "  def on_train_begin(self, logs={}):\n",
        "\n",
        "    self.i = 0\n",
        "    self.x = []\n",
        "    self.losses = []\n",
        "    self.val_losses = []\n",
        "\n",
        "    self.fig = plt.figure()\n",
        "\n",
        "    self.logs = []\n",
        "\n",
        "\n",
        "  def on_epoch_end(self, epoch, logs={}):\n",
        "\n",
        "    self.logs.append(logs)\n",
        "    self.x.append(self.i)\n",
        "    self.losses.append(logs.get('loss'))\n",
        "    self.val_losses.append(logs.get('val_loss'))\n",
        "    self.i += 1\n",
        "\n",
        "    clear_output(wait=True)\n",
        "    plt.plot(self.x, self.losses, label=\"loss\")\n",
        "    plt.plot(self.x, self.val_losses, label=\"val_loss\")\n",
        "    plt.legend()\n",
        "    plt.show();\n",
        "    print(\"loss = \", self.losses[-1], \", val_loss = \", self.val_losses[-1])\n",
        "\n"
      ],
      "execution_count": 25,
      "outputs": []
    },
    {
      "cell_type": "markdown",
      "metadata": {
        "id": "r6hhwMxd-rgC"
      },
      "source": [
        "# 전이학습"
      ]
    },
    {
      "cell_type": "markdown",
      "metadata": {
        "id": "T91tJOCsAmlC"
      },
      "source": [
        "## 모델 정의"
      ]
    },
    {
      "cell_type": "markdown",
      "metadata": {
        "id": "D_lJZbDX-tI1"
      },
      "source": [
        "다름 모델 사용 시에 수정해야 할 사항\n",
        "- import의 모듈 이름\n",
        "- import의 클래스 이름\n",
        "- conv layers 로딩 시의 클래스 이름\n",
        "- 2곳의 preprocess_input의 모듈 이름\n",
        "- train 데이터 폴더 이름\n",
        "- test 데이터 폴더 이름\n",
        "- 모델 출력층의 노드 갯수"
      ]
    },
    {
      "cell_type": "code",
      "metadata": {
        "colab": {
          "base_uri": "https://localhost:8080/"
        },
        "id": "GQ4q2JmU-HyE",
        "outputId": "a14263fc-9801-454f-cbd6-14b2d34df52c"
      },
      "source": [
        "import os\n",
        "\n",
        "import matplotlib.pyplot as plt\n",
        "import numpy as np\n",
        "\n",
        "from tensorflow.keras import optimizers\n",
        "from tensorflow.keras import models\n",
        "from tensorflow.keras import layers\n",
        "from tensorflow.keras import optimizers\n",
        "from tensorflow.keras.models import Sequential\n",
        "from tensorflow.keras.layers import Dropout, Flatten, Dense, BatchNormalization\n",
        "from tensorflow.keras.models import Model\n",
        "from tensorflow.keras.preprocessing.image import ImageDataGenerator\n",
        "from tensorflow.keras.preprocessing.image import load_img\n",
        "from tensorflow.keras.preprocessing.image import img_to_array\n",
        "\n",
        "from tensorflow.keras.applications import efficientnet\n",
        "from tensorflow.keras.applications import EfficientNetB2\n",
        "\n",
        "\n",
        "conv_layers = EfficientNetB2(weights='imagenet', include_top=False, input_shape=(224, 224, 3))\n",
        "conv_layers.trainable = False\n",
        "\n",
        "model = models.Sequential()\n",
        "\n",
        "model.add(conv_layers)\n",
        "model.add(layers.Flatten())\n",
        "model.add(layers.Dense(39, activation='relu'))\n",
        "model.add(BatchNormalization())\n",
        "model.add(layers.Dropout(0.2))\n",
        "model.add(layers.Dense(30, activation='relu'))\n",
        "model.add(BatchNormalization())\n",
        "model.add(layers.Dropout(0.2))\n",
        "model.add(layers.Dense(2, activation='softmax'))\n",
        "\n",
        "model.compile(loss='sparse_categorical_crossentropy', optimizer=\"RMSprop\", metrics=['acc'])\n",
        "\n",
        "model.summary()"
      ],
      "execution_count": 49,
      "outputs": [
        {
          "output_type": "stream",
          "text": [
            "Model: \"sequential_13\"\n",
            "_________________________________________________________________\n",
            "Layer (type)                 Output Shape              Param #   \n",
            "=================================================================\n",
            "efficientnetb2 (Functional)  (None, 7, 7, 1408)        7768569   \n",
            "_________________________________________________________________\n",
            "flatten_13 (Flatten)         (None, 68992)             0         \n",
            "_________________________________________________________________\n",
            "dense_34 (Dense)             (None, 39)                2690727   \n",
            "_________________________________________________________________\n",
            "batch_normalization_18 (Batc (None, 39)                156       \n",
            "_________________________________________________________________\n",
            "dropout_20 (Dropout)         (None, 39)                0         \n",
            "_________________________________________________________________\n",
            "dense_35 (Dense)             (None, 30)                1200      \n",
            "_________________________________________________________________\n",
            "batch_normalization_19 (Batc (None, 30)                120       \n",
            "_________________________________________________________________\n",
            "dropout_21 (Dropout)         (None, 30)                0         \n",
            "_________________________________________________________________\n",
            "dense_36 (Dense)             (None, 2)                 62        \n",
            "=================================================================\n",
            "Total params: 10,460,834\n",
            "Trainable params: 2,692,127\n",
            "Non-trainable params: 7,768,707\n",
            "_________________________________________________________________\n"
          ],
          "name": "stdout"
        }
      ]
    },
    {
      "cell_type": "markdown",
      "metadata": {
        "id": "oq5w4dgnAr0a"
      },
      "source": [
        "## ImageDataGenerator 생성"
      ]
    },
    {
      "cell_type": "code",
      "metadata": {
        "id": "9ZzLGZcyArCW"
      },
      "source": [
        "\n",
        "train_data_generator = ImageDataGenerator(\n",
        "      rotation_range=10,\n",
        "      width_shift_range=0.1,\n",
        "      height_shift_range=0.1,\n",
        "      horizontal_flip=True,\n",
        "      vertical_flip=False,\n",
        "      preprocessing_function=efficientnet.preprocess_input\n",
        ").flow_from_directory(\n",
        "      \"prepared/train\",\n",
        "      target_size=(224,224),\n",
        "      batch_size=64,\n",
        "      class_mode='sparse'\n",
        ")\n",
        "\n",
        "test_data_generator = ImageDataGenerator(\n",
        "      preprocessing_function=efficientnet.preprocess_input\n",
        ").flow_from_directory(\n",
        "      \"prepared/test\",\n",
        "      target_size=(224,224),\n",
        "      batch_size=64,\n",
        "      class_mode='sparse'\n",
        ")\n"
      ],
      "execution_count": null,
      "outputs": []
    },
    {
      "cell_type": "markdown",
      "metadata": {
        "id": "TJyvuPG8H6Al"
      },
      "source": [
        "## 학습"
      ]
    },
    {
      "cell_type": "code",
      "metadata": {
        "colab": {
          "base_uri": "https://localhost:8080/",
          "height": 298
        },
        "id": "PIKSN2oc_Kn3",
        "outputId": "36e2202e-af68-4598-b69f-e937101e6ae1"
      },
      "source": [
        "plot_losses = PlotLosses()\n",
        "\n",
        "model.fit(\n",
        "      train_data_generator,\n",
        "      validation_data=test_data_generator,\n",
        "      steps_per_epoch=train_data_generator.samples/64,  \n",
        "      validation_steps=test_data_generator.samples/64,      \n",
        "      epochs=100,\n",
        "      callbacks=[plot_losses]\n",
        ")\n",
        "\n"
      ],
      "execution_count": 50,
      "outputs": [
        {
          "output_type": "display_data",
          "data": {
            "image/png": "[encoded data removed]",
            "text/plain": [
              "<Figure size 432x288 with 1 Axes>"
            ]
          },
          "metadata": {
            "tags": [],
            "needs_background": "light"
          }
        },
        {
          "output_type": "stream",
          "text": [
            "loss =  0.012694370932877064 , val_loss =  0.19664305448532104\n"
          ],
          "name": "stdout"
        },
        {
          "output_type": "execute_result",
          "data": {
            "text/plain": [
              "<keras.callbacks.History at 0x7f286777efd0>"
            ]
          },
          "metadata": {
            "tags": []
          },
          "execution_count": 50
        }
      ]
    },
    {
      "cell_type": "markdown",
      "metadata": {
        "id": "74xrrjPVH8P5"
      },
      "source": [
        "## 평가"
      ]
    },
    {
      "cell_type": "code",
      "metadata": {
        "colab": {
          "base_uri": "https://localhost:8080/"
        },
        "id": "nJxhEkBi_Mnb",
        "outputId": "5fb6450d-e211-4edb-9a93-4e4a7657d368"
      },
      "source": [
        "loss, acc = model.evaluate(\n",
        "      test_data_generator,\n",
        "      steps=test_data_generator.samples/64\n",
        ")\n",
        "print(\"loss=\", loss)\n",
        "print(\"acc=\", acc)\n"
      ],
      "execution_count": 51,
      "outputs": [
        {
          "output_type": "stream",
          "text": [
            "1/1 [==============================] - 1s 286ms/step - loss: 0.1966 - acc: 0.9561\n",
            "loss= 0.19664306938648224\n",
            "acc= 0.9561403393745422\n"
          ],
          "name": "stdout"
        }
      ]
    },
    {
      "cell_type": "markdown",
      "metadata": {
        "id": "Tc1MFCswH9wb"
      },
      "source": [
        "## 예측"
      ]
    },
    {
      "cell_type": "code",
      "metadata": {
        "colab": {
          "base_uri": "https://localhost:8080/"
        },
        "id": "bBswvsy1_OLf",
        "outputId": "556e049a-7734-4929-f78f-aeaa8ea230d6"
      },
      "source": [
        "\n",
        "y_ = model.predict(\n",
        "      test_data_generator,\n",
        "      steps=test_data_generator.samples/64\n",
        ")\n",
        "\n",
        "custom_labels = list(test_data_generator.class_indices.keys())\n",
        "predicted = np.argmax(y_, axis=1)\n",
        "print(\"predicted category index =\", predicted[0])\n",
        "print(\"predicted category name =\", custom_labels[predicted[0]])\n"
      ],
      "execution_count": 52,
      "outputs": [
        {
          "output_type": "stream",
          "text": [
            "predicted category index = 1\n",
            "predicted category name = dandelion\n"
          ],
          "name": "stdout"
        }
      ]
    },
    {
      "cell_type": "code",
      "metadata": {
        "id": "r5o1uCEWAAIY"
      },
      "source": [
        ""
      ],
      "execution_count": null,
      "outputs": []
    }
  ]
}